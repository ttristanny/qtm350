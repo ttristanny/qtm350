{
 "cells": [
  {
   "cell_type": "markdown",
   "metadata": {},
   "source": [
    "# QTM 350 - Data Science Computing\n",
    "\n",
    "## Assignment 01 - Computational Literacy\n",
    "### Due 10 September 2025\n",
    "\n",
    "### Instructions\n",
    "\n",
    "This assignment evaluates your understanding of topics covered in the first two weeks of class, including binary and hexadecimal number systems, ASCII encoding, and programming language fundamentals.\n",
    "\n",
    "You must complete this assignment individually. While you may use available resources such as notes, books, and AI tools, you are expected to submit original work. Please acknowledge all resources used, including input from classmates and AI. If you are unsure about permissible resources or proper acknowledgement, please consult the instructor.\n",
    "\n",
    "Present your solutions clearly and systematically, showing your problem-solving process. Please ensure that any code is well-commented.\n",
    "\n",
    "### Submission\n",
    "\n",
    "Please submit your solutions as either a single Jupyter notebook or a PDF file. Follow the instructions provided in each section carefully. Submit your completed assignment to Canvas or via email (danilo.freire@emory.edu) by Wednesday, September 11, at 11:59 PM."
   ]
  },
  {
   "cell_type": "markdown",
   "metadata": {},
   "source": [
    "### Question 01\n",
    "\n",
    "Convert the decimal number 53 to binary. Show your work."
   ]
  },
  {
   "cell_type": "markdown",
   "metadata": {},
   "source": [
    "Answer: Since 53 = 32 + 16 + 4 + 1, 53 in binary is 110101."
   ]
  },
  {
   "cell_type": "markdown",
   "metadata": {},
   "source": [
    "### Question 02\n",
    "\n",
    "Convert the binary number 1011001 to decimal. Show your work."
   ]
  },
  {
   "cell_type": "markdown",
   "metadata": {},
   "source": [
    "Answer: 1011001 => 64 + 0 + 16 + 8 + 0 + 0 + 1 = 89"
   ]
  },
  {
   "cell_type": "markdown",
   "metadata": {},
   "source": [
    "### Question 03\n",
    "\n",
    "What is the hexadecimal representation of the RGB colour (128, 64, 255)? Explain your answer."
   ]
  },
  {
   "cell_type": "markdown",
   "metadata": {},
   "source": [
    "Answer: In hexadecimal representation of RGB color, the combination is consisted of #RRGGBB, which each color represented by two degits.\n",
    "\n",
    "\n",
    "Red: 128 = 16 * 8 + 0 <br>\n",
    "So, 128 is represented as 80 in hexadecimal.<br><br>\n",
    "Green: 64 = 16 * 4 + 0<br>\n",
    "So, 64 is represented as 40 in hexadecimal.<br><br>\n",
    "Blue: 255 = 16 * 15 + 15<br>\n",
    "So, 255 is represented as FF.<br><br>\n",
    "\n",
    "Thus, (128, 64, 255) is #8040FF in hexadecimal representation."
   ]
  },
  {
   "cell_type": "markdown",
   "metadata": {},
   "source": [
    "### Question 04\n",
    "\n",
    "Convert the hexadecimal colour #2A9F3B to its RGB components. Show your steps."
   ]
  },
  {
   "cell_type": "markdown",
   "metadata": {},
   "source": [
    "Answer: In hexadecimal, A = 10, F = 15, B = 11.<br><br>\n",
    "So, 2A = 2 * 16 + 10 = 42.<br>\n",
    "9F = 16 * 9 + 15 = 159.<br>\n",
    "3B = 3 * 16 + 11 = 59.<br><br>\n",
    "Thus, #2A9F3B is (42, 159, 59) in RGB."
   ]
  },
  {
   "cell_type": "markdown",
   "metadata": {},
   "source": [
    "### Question 05\n",
    "\n",
    "Using the coin representation system described in the lecture (c[quarters][dimes][nickels][pennies]), convert $1.37 to coin representation. Explain your reasoning."
   ]
  },
  {
   "cell_type": "markdown",
   "metadata": {},
   "source": [
    "Answer: <br><br>\n",
    "\n",
    "$1.37 = 1 * $1.00 + 1 * $0.25 + 2 * $0.05 + 2 * $0.01. <br><br>\n",
    "\n",
    "So $1.37 is represented in c1122."
   ]
  },
  {
   "cell_type": "markdown",
   "metadata": {},
   "source": [
    "### Question 06\n",
    "\n",
    "What is the Unicode representation of the word \"Emory\"? Use the Unicode table provided in the lecture to find out."
   ]
  },
  {
   "cell_type": "markdown",
   "metadata": {},
   "source": [
    "Answer: According to the Unicode table, \"Emory\" in Unicode is \\u0045\\u006D\\u006F\\u0072\\u0079"
   ]
  },
  {
   "cell_type": "markdown",
   "metadata": {},
   "source": [
    "### Question 07\n",
    "\n",
    "Explain the difference between ASCII and Unicode. Why was Unicode developed, and what advantages does it offer over ASCII?"
   ]
  },
  {
   "cell_type": "markdown",
   "metadata": {},
   "source": [
    "Answer: **ASCII** uses 7 digits to define letters (A–Z, a–z), digits (0–9), punctuation, control characters (like newline), and a few symbols. It has very limited application as it only includes unaccented English characters, and other languanges cannot be represented. <br><br>\n",
    "To address this limitation, **Unicode** was developed. Unicode is a superset of ASCII that includes characters from all languages, as well as symbols and emojis. It uses up to 5 bytes, which can represent up to 1 trillion characters, and can represents every character that can be typed into a computer."
   ]
  },
  {
   "cell_type": "markdown",
   "metadata": {},
   "source": [
    "### Question 08\n",
    "\n",
    "Describe the Von Neumann architecture and its significance in modern computing. What is the Von Neumann bottleneck, and how does it affect computer performance?"
   ]
  },
  {
   "cell_type": "markdown",
   "metadata": {},
   "source": [
    "Answer: The Von Neumann Architecture stores both program instructions and data together in a slow storage medium, such as a hard disk, and transfers them to faster RAM for execution by the CPU.<br><br>\n",
    "This is very important because it is the basis for almost all modern computers. <br><br>\n",
    "When proposed in 1945, this architecture was revolutionary, as programs were previously seen as part of the machine, distinct from the data they operated on. <br><br>\n",
    "It affects computer performance by slowing down processing, since the CPU must wait for instructions and data to travel along the same limited pathway to and from memory."
   ]
  },
  {
   "cell_type": "markdown",
   "metadata": {},
   "source": [
    "### Question 09\n",
    "\n",
    "Compare and contrast low-level and high-level programming languages. Give two examples of each and explain when you might choose to use one over the other."
   ]
  },
  {
   "cell_type": "markdown",
   "metadata": {},
   "source": [
    "Answer: Low-level programming languages, such as **assembly language** and **machine code**, are closer to the hardware and provide direct control over system resources, but they are harder for humans to read and write. In contrast, high-level languages like **Python** and **Java** abstract away from hardware details, making code more readable, easier to write, and portable across systems. <br><br>\n",
    "\n",
    "You might choose a low-level language when developing performance-critical applications like embedded systems or device drivers, where efficiency and control are essential. On the other hand, high-level languages are preferred for tasks such as web development or data analysis, where faster development and cross-platform compatibility matter more than raw efficiency.\n"
   ]
  },
  {
   "cell_type": "markdown",
   "metadata": {},
   "source": [
    "### Question 10\n",
    "\n",
    "Discuss the concept of abstraction in computer science, using the representation of images in computers as an example. How does this abstraction process impact data analysis and predictive modelling in image-related tasks?"
   ]
  },
  {
   "cell_type": "markdown",
   "metadata": {},
   "source": [
    "Answer: Abstraction in computer science is the process of hiding lower-level details while focusing on higher-level functionality. It allows us to manage complexity by representing complicated systems in simpler terms.<br><br>\n",
    "At the lowest level, a digital image is just a grid of binary values: 0s and 1s representing pixel intensity or color values. This raw binary data is hard for humans to understand, so abstraction layers are introduced:\n",
    "\n",
    "* Pixels: Binary values are grouped into pixels with numerical intensity values.\n",
    "\n",
    "* Colors: Pixels may be represented in color models like RGB (red, green, blue) or grayscale.\n",
    "\n",
    "* Formats: Higher-level abstractions like JPEG or PNG encode images efficiently for storage and transmission.\n",
    "\n",
    "So, instead of thinking in terms of millions of 0s and 1s, we think of an image as a photo, a matrix of pixel values, or a compressed file — all thanks to abstraction.\n"
   ]
  },
  {
   "cell_type": "markdown",
   "metadata": {},
   "source": [
    "*I acknowledge the use of ChatGPT for assistance in generating explanations, summarizing concepts, and refining the language of this project. All critical analysis, conclusions, and interpretations are my own.\n"
   ]
  },
  {
   "cell_type": "markdown",
   "metadata": {},
   "source": []
  }
 ],
 "metadata": {
  "kernelspec": {
   "display_name": "base",
   "language": "python",
   "name": "python3"
  },
  "language_info": {
   "codemirror_mode": {
    "name": "ipython",
    "version": 3
   },
   "file_extension": ".py",
   "mimetype": "text/x-python",
   "name": "python",
   "nbconvert_exporter": "python",
   "pygments_lexer": "ipython3",
   "version": "3.12.2"
  }
 },
 "nbformat": 4,
 "nbformat_minor": 2
}
